{
 "cells": [
  {
   "cell_type": "code",
   "execution_count": 1,
   "metadata": {},
   "outputs": [],
   "source": [
    "import pandas as pd\n",
    "from keras.layers import Dense, LSTM\n",
    "from keras.models import Sequential\n",
    "from numpy import np"
   ]
  },
  {
   "cell_type": "code",
   "execution_count": 4,
   "metadata": {},
   "outputs": [
    {
     "name": "stdout",
     "output_type": "stream",
     "text": [
      "   sel1 julbe1 sel2 julbe2 sel3 julbe3 sel4 julbe4 sel5 julbe5 sel6 julb6 aksi\n",
      "0    31      1  -20      0  -11      0   33      1   22      1   22     1    0\n",
      "1   -20      0  -11      0   33      1   22      1   22      1  -44     0    1\n",
      "2   -11      0   33      1   22      1   22      1  -44      0   22     1    0\n",
      "3    33      1   22      1   22      1  -44      0   22      1  -22     0    0\n",
      "4    22      1   22      1  -44      0   22      1  -22      0  -11     0    1\n",
      "5    22      1  -44      0   22      1  -22      0  -11      0   22     1    1\n",
      "6   -44      0   22      1  -22      0  -11      0   22      1   22     1    0\n",
      "7    22      1  -22      0  -11      0   22      1   22      1  -24     0    0\n",
      "8   -22      0  -11      0   22      1   22      1  -24      0  -20     0    1\n",
      "9   -11      0   22      1   22      1  -24      0  -20      0   22     1    0\n",
      "10   22      1   22      1  -24      0  -20      0   22      1  -22     0    0\n",
      "11   22      1  -24      0  -20      0   22      1  -22      0  -11     0    1\n",
      "12  -24      0  -20      0   22      1  -22      0  -11      0   22     1    0\n",
      "13  -20      0   22      1  -22      0  -11      0   22      1  -39     0    1\n",
      "14   22      1  -22      0  -11      0   22      1  -39      0   39     1    0\n",
      "15  -22      0  -11      0   22      1  -39      0   39      1  -11     0    1\n",
      "16  -11      0   22      1  -39      0   39      1  -11      0   22     1    0\n"
     ]
    }
   ],
   "source": [
    "data = [12,43,23,12,45,67,89,45,67,45,34,56,78,54,34,56,34,23,45,6,45,34,56,34]\n",
    "data_collect = []\n",
    "df = pd.DataFrame(columns=['sel1','julbe1','sel2','julbe2','sel3','julbe3','sel4','julbe4','sel5','julbe5','sel6','julb6','aksi'])\n",
    "\n",
    "for dt in data:\n",
    "    data_collect.append(dt)\n",
    "    if len(data_collect) == 8:\n",
    "        data_olah = []\n",
    "        for i in range(len(data_collect)):\n",
    "            if i<6:\n",
    "                selisih = data_collect[i+1] - data_collect[i]\n",
    "                posneg = None\n",
    "                if selisih > 0:\n",
    "                    posneg = 1\n",
    "                else:\n",
    "                    posneg = 0\n",
    "                data_olah.append(selisih)\n",
    "                data_olah.append(posneg)\n",
    "            elif i==6:\n",
    "                if data_collect[i+1] - data_collect[i] > 0:\n",
    "                    data_olah.append(1)\n",
    "                else:\n",
    "                    data_olah.append(0)\n",
    "        df.loc[len(df),:] = data_olah\n",
    "        data_collect.pop(0)\n",
    "    time.sleep(1)\n",
    "    \n",
    "print(df)"
   ]
  }
 ],
 "metadata": {
  "kernelspec": {
   "display_name": ".env",
   "language": "python",
   "name": "python3"
  },
  "language_info": {
   "codemirror_mode": {
    "name": "ipython",
    "version": 3
   },
   "file_extension": ".py",
   "mimetype": "text/x-python",
   "name": "python",
   "nbconvert_exporter": "python",
   "pygments_lexer": "ipython3",
   "version": "3.10.6"
  },
  "orig_nbformat": 4
 },
 "nbformat": 4,
 "nbformat_minor": 2
}
