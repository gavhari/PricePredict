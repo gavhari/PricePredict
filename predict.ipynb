{
 "cells": [
  {
   "cell_type": "code",
   "execution_count": 1,
   "metadata": {},
   "outputs": [
    {
     "name": "stderr",
     "output_type": "stream",
     "text": [
      "2023-05-11 23:59:51.406475: I tensorflow/core/platform/cpu_feature_guard.cc:182] This TensorFlow binary is optimized to use available CPU instructions in performance-critical operations.\n",
      "To enable the following instructions: AVX2 FMA, in other operations, rebuild TensorFlow with the appropriate compiler flags.\n",
      "2023-05-11 23:59:53.314639: W tensorflow/compiler/tf2tensorrt/utils/py_utils.cc:38] TF-TRT Warning: Could not find TensorRT\n"
     ]
    }
   ],
   "source": [
    "import tensorflow as tf\n",
    "import numpy as np\n",
    "import requests"
   ]
  },
  {
   "cell_type": "code",
   "execution_count": 2,
   "metadata": {},
   "outputs": [],
   "source": [
    "symbol = \"EURUSD\"\n",
    "url = f\"https://www.tradingview.com/symbols/{symbol}\"\n"
   ]
  },
  {
   "cell_type": "code",
   "execution_count": 11,
   "metadata": {},
   "outputs": [
    {
     "ename": "SyntaxError",
     "evalue": "invalid syntax. Perhaps you forgot a comma? (3811719386.py, line 12)",
     "output_type": "error",
     "traceback": [
      "\u001b[0;36m  Cell \u001b[0;32mIn[11], line 12\u001b[0;36m\u001b[0m\n\u001b[0;31m    element = wait.until(EC.presence_of_element_located(\"//*[@id=\"js-category-content\"]/div[1]/div[1]/div/div/div/div[2]/button[4]/span/span[2]\"))\u001b[0m\n\u001b[0m                                                        ^\u001b[0m\n\u001b[0;31mSyntaxError\u001b[0m\u001b[0;31m:\u001b[0m invalid syntax. Perhaps you forgot a comma?\n"
     ]
    }
   ],
   "source": [
    "from selenium import webdriver\n",
    "from selenium.webdriver.common.by import By\n",
    "from selenium.webdriver.support.ui import WebDriverWait\n",
    "from selenium.webdriver.support import expected_conditions as EC\n",
    "\n",
    "driver = webdriver.Chrome()\n",
    "xpath = {\n",
    "    'market_status':'//*[@id=\"js-category-content\"]/div[1]/div[1]/div/div/div/div[2]/button[4]/span/span[2]'\n",
    "}\n",
    "driver.get(url)\n",
    "wait = WebDriverWait(driver,10)\n",
    "element = wait.until(EC.presence_of_element_located((By.XPATH, xpath['market_status'])))\n",
    "print(\"Selesai dimuat\")"
   ]
  },
  {
   "cell_type": "code",
   "execution_count": 4,
   "metadata": {},
   "outputs": [
    {
     "ename": "NoSuchElementException",
     "evalue": "Message: no such element: Unable to locate element: {\"method\":\"xpath\",\"selector\":\"//*[@id=\"js-category-content\"]/div[1]/div[1]/div/div/div/div[2]/button[4]/span/span[1]/svg\"}\n  (Session info: chrome=113.0.5672.92)\nStacktrace:\n#0 0x55c2fefca133 <unknown>\n#1 0x55c2fecfe966 <unknown>\n#2 0x55c2fed3b0dc <unknown>\n#3 0x55c2fed3b211 <unknown>\n#4 0x55c2fed756c4 <unknown>\n#5 0x55c2fed5abfd <unknown>\n#6 0x55c2fed731c7 <unknown>\n#7 0x55c2fed5a9a3 <unknown>\n#8 0x55c2fed2f46a <unknown>\n#9 0x55c2fed3055e <unknown>\n#10 0x55c2fef89cae <unknown>\n#11 0x55c2fef8d8fe <unknown>\n#12 0x55c2fef96f20 <unknown>\n#13 0x55c2fef8e923 <unknown>\n#14 0x55c2fef61c0e <unknown>\n#15 0x55c2fefb1b08 <unknown>\n#16 0x55c2fefb1c97 <unknown>\n#17 0x55c2fefc2113 <unknown>\n#18 0x7f72a2701b43 <unknown>\n",
     "output_type": "error",
     "traceback": [
      "\u001b[0;31m---------------------------------------------------------------------------\u001b[0m",
      "\u001b[0;31mNoSuchElementException\u001b[0m                    Traceback (most recent call last)",
      "Cell \u001b[0;32mIn[4], line 1\u001b[0m\n\u001b[0;32m----> 1\u001b[0m market_open \u001b[39m=\u001b[39m driver\u001b[39m.\u001b[39;49mfind_element(By\u001b[39m.\u001b[39;49mXPATH, xpath[\u001b[39m'\u001b[39;49m\u001b[39mmarket_status\u001b[39;49m\u001b[39m'\u001b[39;49m])\n\u001b[1;32m      2\u001b[0m \u001b[39mif\u001b[39;00m market_open:\n\u001b[1;32m      3\u001b[0m     \u001b[39mprint\u001b[39m(\u001b[39m\"\u001b[39m\u001b[39mMarket is open\u001b[39m\u001b[39m\"\u001b[39m)\n",
      "File \u001b[0;32m~/Desktop/ML/.env/lib/python3.10/site-packages/selenium/webdriver/remote/webdriver.py:831\u001b[0m, in \u001b[0;36mWebDriver.find_element\u001b[0;34m(self, by, value)\u001b[0m\n\u001b[1;32m    828\u001b[0m     by \u001b[39m=\u001b[39m By\u001b[39m.\u001b[39mCSS_SELECTOR\n\u001b[1;32m    829\u001b[0m     value \u001b[39m=\u001b[39m \u001b[39mf\u001b[39m\u001b[39m'\u001b[39m\u001b[39m[name=\u001b[39m\u001b[39m\"\u001b[39m\u001b[39m{\u001b[39;00mvalue\u001b[39m}\u001b[39;00m\u001b[39m\"\u001b[39m\u001b[39m]\u001b[39m\u001b[39m'\u001b[39m\n\u001b[0;32m--> 831\u001b[0m \u001b[39mreturn\u001b[39;00m \u001b[39mself\u001b[39;49m\u001b[39m.\u001b[39;49mexecute(Command\u001b[39m.\u001b[39;49mFIND_ELEMENT, {\u001b[39m\"\u001b[39;49m\u001b[39musing\u001b[39;49m\u001b[39m\"\u001b[39;49m: by, \u001b[39m\"\u001b[39;49m\u001b[39mvalue\u001b[39;49m\u001b[39m\"\u001b[39;49m: value})[\u001b[39m\"\u001b[39m\u001b[39mvalue\u001b[39m\u001b[39m\"\u001b[39m]\n",
      "File \u001b[0;32m~/Desktop/ML/.env/lib/python3.10/site-packages/selenium/webdriver/remote/webdriver.py:440\u001b[0m, in \u001b[0;36mWebDriver.execute\u001b[0;34m(self, driver_command, params)\u001b[0m\n\u001b[1;32m    438\u001b[0m response \u001b[39m=\u001b[39m \u001b[39mself\u001b[39m\u001b[39m.\u001b[39mcommand_executor\u001b[39m.\u001b[39mexecute(driver_command, params)\n\u001b[1;32m    439\u001b[0m \u001b[39mif\u001b[39;00m response:\n\u001b[0;32m--> 440\u001b[0m     \u001b[39mself\u001b[39;49m\u001b[39m.\u001b[39;49merror_handler\u001b[39m.\u001b[39;49mcheck_response(response)\n\u001b[1;32m    441\u001b[0m     response[\u001b[39m\"\u001b[39m\u001b[39mvalue\u001b[39m\u001b[39m\"\u001b[39m] \u001b[39m=\u001b[39m \u001b[39mself\u001b[39m\u001b[39m.\u001b[39m_unwrap_value(response\u001b[39m.\u001b[39mget(\u001b[39m\"\u001b[39m\u001b[39mvalue\u001b[39m\u001b[39m\"\u001b[39m, \u001b[39mNone\u001b[39;00m))\n\u001b[1;32m    442\u001b[0m     \u001b[39mreturn\u001b[39;00m response\n",
      "File \u001b[0;32m~/Desktop/ML/.env/lib/python3.10/site-packages/selenium/webdriver/remote/errorhandler.py:245\u001b[0m, in \u001b[0;36mErrorHandler.check_response\u001b[0;34m(self, response)\u001b[0m\n\u001b[1;32m    243\u001b[0m         alert_text \u001b[39m=\u001b[39m value[\u001b[39m\"\u001b[39m\u001b[39malert\u001b[39m\u001b[39m\"\u001b[39m]\u001b[39m.\u001b[39mget(\u001b[39m\"\u001b[39m\u001b[39mtext\u001b[39m\u001b[39m\"\u001b[39m)\n\u001b[1;32m    244\u001b[0m     \u001b[39mraise\u001b[39;00m exception_class(message, screen, stacktrace, alert_text)  \u001b[39m# type: ignore[call-arg]  # mypy is not smart enough here\u001b[39;00m\n\u001b[0;32m--> 245\u001b[0m \u001b[39mraise\u001b[39;00m exception_class(message, screen, stacktrace)\n",
      "\u001b[0;31mNoSuchElementException\u001b[0m: Message: no such element: Unable to locate element: {\"method\":\"xpath\",\"selector\":\"//*[@id=\"js-category-content\"]/div[1]/div[1]/div/div/div/div[2]/button[4]/span/span[1]/svg\"}\n  (Session info: chrome=113.0.5672.92)\nStacktrace:\n#0 0x55c2fefca133 <unknown>\n#1 0x55c2fecfe966 <unknown>\n#2 0x55c2fed3b0dc <unknown>\n#3 0x55c2fed3b211 <unknown>\n#4 0x55c2fed756c4 <unknown>\n#5 0x55c2fed5abfd <unknown>\n#6 0x55c2fed731c7 <unknown>\n#7 0x55c2fed5a9a3 <unknown>\n#8 0x55c2fed2f46a <unknown>\n#9 0x55c2fed3055e <unknown>\n#10 0x55c2fef89cae <unknown>\n#11 0x55c2fef8d8fe <unknown>\n#12 0x55c2fef96f20 <unknown>\n#13 0x55c2fef8e923 <unknown>\n#14 0x55c2fef61c0e <unknown>\n#15 0x55c2fefb1b08 <unknown>\n#16 0x55c2fefb1c97 <unknown>\n#17 0x55c2fefc2113 <unknown>\n#18 0x7f72a2701b43 <unknown>\n"
     ]
    }
   ],
   "source": [
    "market_open = driver.find_element(By.XPATH, xpath['market_status'])\n",
    "if market_open:\n",
    "    print(\"Market is open\")"
   ]
  },
  {
   "cell_type": "code",
   "execution_count": null,
   "metadata": {},
   "outputs": [],
   "source": [
    "//*[@id=\"js-category-content\"]/div[1]/div[1]/div/div/div/div[2]/button[4]/span/span[2]"
   ]
  }
 ],
 "metadata": {
  "kernelspec": {
   "display_name": ".env",
   "language": "python",
   "name": "python3"
  },
  "language_info": {
   "codemirror_mode": {
    "name": "ipython",
    "version": 3
   },
   "file_extension": ".py",
   "mimetype": "text/x-python",
   "name": "python",
   "nbconvert_exporter": "python",
   "pygments_lexer": "ipython3",
   "version": "3.10.6"
  },
  "orig_nbformat": 4
 },
 "nbformat": 4,
 "nbformat_minor": 2
}
