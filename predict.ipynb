{
 "cells": [
  {
   "cell_type": "code",
   "execution_count": 1,
   "metadata": {},
   "outputs": [
    {
     "name": "stderr",
     "output_type": "stream",
     "text": [
      "2023-05-12 16:17:50.931316: I tensorflow/tsl/cuda/cudart_stub.cc:28] Could not find cuda drivers on your machine, GPU will not be used.\n",
      "2023-05-12 16:17:51.679299: I tensorflow/tsl/cuda/cudart_stub.cc:28] Could not find cuda drivers on your machine, GPU will not be used.\n",
      "2023-05-12 16:17:51.683932: I tensorflow/core/platform/cpu_feature_guard.cc:182] This TensorFlow binary is optimized to use available CPU instructions in performance-critical operations.\n",
      "To enable the following instructions: AVX2 FMA, in other operations, rebuild TensorFlow with the appropriate compiler flags.\n",
      "2023-05-12 16:17:53.578013: W tensorflow/compiler/tf2tensorrt/utils/py_utils.cc:38] TF-TRT Warning: Could not find TensorRT\n"
     ]
    }
   ],
   "source": [
    "import numpy as np\n",
    "import pandas as pd\n",
    "from keras.models import Sequential\n",
    "from keras.layers import LSTM, Dense\n",
    "from sklearn.preprocessing import MinMaxScaler\n",
    "from sklearn.model_selection import train_test_split"
   ]
  },
  {
   "cell_type": "code",
   "execution_count": 6,
   "metadata": {},
   "outputs": [],
   "source": [
    "df = pd.read_excel('dataFrame.xlsx')"
   ]
  },
  {
   "cell_type": "code",
   "execution_count": 3,
   "metadata": {},
   "outputs": [
    {
     "data": {
      "text/plain": [
       "array([[0.61904762, 0.57142857, 0.61904762, 0.52380952, 0.52380952,\n",
       "        0.47619048, 0.52380952, 0.57142857],\n",
       "       [0.57142857, 0.61904762, 0.52380952, 0.52380952, 0.47619048,\n",
       "        0.52380952, 0.57142857, 0.57142857],\n",
       "       [0.61904762, 0.52380952, 0.52380952, 0.47619048, 0.52380952,\n",
       "        0.57142857, 0.57142857, 0.61904762],\n",
       "       [0.52380952, 0.52380952, 0.47619048, 0.52380952, 0.57142857,\n",
       "        0.57142857, 0.61904762, 1.        ],\n",
       "       [0.52380952, 0.47619048, 0.52380952, 0.57142857, 0.57142857,\n",
       "        0.61904762, 1.        , 0.76190476],\n",
       "       [0.47619048, 0.52380952, 0.57142857, 0.57142857, 0.61904762,\n",
       "        1.        , 0.76190476, 0.57142857],\n",
       "       [0.52380952, 0.57142857, 0.57142857, 0.61904762, 1.        ,\n",
       "        0.76190476, 0.57142857, 0.85714286],\n",
       "       [0.57142857, 0.57142857, 0.61904762, 1.        , 0.76190476,\n",
       "        0.57142857, 0.85714286, 0.85714286],\n",
       "       [0.57142857, 0.61904762, 1.        , 0.76190476, 0.57142857,\n",
       "        0.85714286, 0.85714286, 0.85714286],\n",
       "       [0.61904762, 1.        , 0.76190476, 0.57142857, 0.85714286,\n",
       "        0.85714286, 0.85714286, 0.80952381],\n",
       "       [1.        , 0.76190476, 0.57142857, 0.85714286, 0.85714286,\n",
       "        0.85714286, 0.80952381, 0.80952381],\n",
       "       [0.76190476, 0.57142857, 0.85714286, 0.85714286, 0.85714286,\n",
       "        0.80952381, 0.80952381, 0.85714286],\n",
       "       [0.57142857, 0.85714286, 0.85714286, 0.85714286, 0.80952381,\n",
       "        0.80952381, 0.85714286, 0.85714286],\n",
       "       [0.85714286, 0.85714286, 0.85714286, 0.80952381, 0.80952381,\n",
       "        0.85714286, 0.85714286, 0.9047619 ],\n",
       "       [0.85714286, 0.85714286, 0.80952381, 0.80952381, 0.85714286,\n",
       "        0.85714286, 0.9047619 , 0.71428571],\n",
       "       [0.85714286, 0.80952381, 0.80952381, 0.85714286, 0.85714286,\n",
       "        0.9047619 , 0.71428571, 0.52380952],\n",
       "       [0.80952381, 0.80952381, 0.85714286, 0.85714286, 0.9047619 ,\n",
       "        0.71428571, 0.52380952, 0.33333333],\n",
       "       [0.80952381, 0.85714286, 0.85714286, 0.9047619 , 0.71428571,\n",
       "        0.52380952, 0.33333333, 0.38095238],\n",
       "       [0.85714286, 0.85714286, 0.9047619 , 0.71428571, 0.52380952,\n",
       "        0.33333333, 0.38095238, 0.33333333],\n",
       "       [0.85714286, 0.9047619 , 0.71428571, 0.52380952, 0.33333333,\n",
       "        0.38095238, 0.33333333, 0.33333333],\n",
       "       [0.9047619 , 0.71428571, 0.52380952, 0.33333333, 0.38095238,\n",
       "        0.33333333, 0.33333333, 0.04761905],\n",
       "       [0.71428571, 0.52380952, 0.33333333, 0.38095238, 0.33333333,\n",
       "        0.33333333, 0.04761905, 0.0952381 ],\n",
       "       [0.52380952, 0.33333333, 0.38095238, 0.33333333, 0.33333333,\n",
       "        0.04761905, 0.0952381 , 0.        ],\n",
       "       [0.33333333, 0.38095238, 0.33333333, 0.33333333, 0.04761905,\n",
       "        0.0952381 , 0.        , 0.14285714],\n",
       "       [0.38095238, 0.33333333, 0.33333333, 0.04761905, 0.0952381 ,\n",
       "        0.        , 0.14285714, 0.38095238],\n",
       "       [0.33333333, 0.33333333, 0.04761905, 0.0952381 , 0.        ,\n",
       "        0.14285714, 0.38095238, 0.33333333],\n",
       "       [0.33333333, 0.04761905, 0.0952381 , 0.        , 0.14285714,\n",
       "        0.38095238, 0.33333333, 0.0952381 ],\n",
       "       [0.04761905, 0.0952381 , 0.        , 0.14285714, 0.38095238,\n",
       "        0.33333333, 0.0952381 , 0.0952381 ],\n",
       "       [0.0952381 , 0.        , 0.14285714, 0.38095238, 0.33333333,\n",
       "        0.0952381 , 0.0952381 , 0.        ],\n",
       "       [0.        , 0.14285714, 0.38095238, 0.33333333, 0.0952381 ,\n",
       "        0.0952381 , 0.        , 0.04761905],\n",
       "       [0.14285714, 0.38095238, 0.33333333, 0.0952381 , 0.0952381 ,\n",
       "        0.        , 0.04761905, 0.        ],\n",
       "       [0.38095238, 0.33333333, 0.0952381 , 0.0952381 , 0.        ,\n",
       "        0.04761905, 0.        , 0.14285714],\n",
       "       [0.33333333, 0.0952381 , 0.0952381 , 0.        , 0.04761905,\n",
       "        0.        , 0.14285714, 0.28571429],\n",
       "       [0.0952381 , 0.0952381 , 0.        , 0.04761905, 0.        ,\n",
       "        0.14285714, 0.28571429, 0.0952381 ],\n",
       "       [0.0952381 , 0.        , 0.04761905, 0.        , 0.14285714,\n",
       "        0.28571429, 0.0952381 , 0.38095238],\n",
       "       [0.        , 0.04761905, 0.        , 0.14285714, 0.28571429,\n",
       "        0.0952381 , 0.38095238, 0.23809524],\n",
       "       [0.04761905, 0.        , 0.14285714, 0.28571429, 0.0952381 ,\n",
       "        0.38095238, 0.23809524, 0.04761905],\n",
       "       [0.        , 0.14285714, 0.28571429, 0.0952381 , 0.38095238,\n",
       "        0.23809524, 0.04761905, 0.04761905],\n",
       "       [0.14285714, 0.28571429, 0.0952381 , 0.38095238, 0.23809524,\n",
       "        0.04761905, 0.04761905, 0.14285714],\n",
       "       [0.28571429, 0.0952381 , 0.38095238, 0.23809524, 0.04761905,\n",
       "        0.04761905, 0.14285714, 0.47619048],\n",
       "       [0.0952381 , 0.38095238, 0.23809524, 0.04761905, 0.04761905,\n",
       "        0.14285714, 0.47619048, 0.42857143],\n",
       "       [0.38095238, 0.23809524, 0.04761905, 0.04761905, 0.14285714,\n",
       "        0.47619048, 0.42857143, 0.28571429],\n",
       "       [0.23809524, 0.04761905, 0.04761905, 0.14285714, 0.47619048,\n",
       "        0.42857143, 0.28571429, 0.28571429],\n",
       "       [0.04761905, 0.04761905, 0.14285714, 0.47619048, 0.42857143,\n",
       "        0.28571429, 0.28571429, 0.52380952],\n",
       "       [0.04761905, 0.14285714, 0.47619048, 0.42857143, 0.28571429,\n",
       "        0.28571429, 0.52380952, 0.52380952],\n",
       "       [0.14285714, 0.47619048, 0.42857143, 0.28571429, 0.28571429,\n",
       "        0.52380952, 0.52380952, 0.57142857],\n",
       "       [0.47619048, 0.42857143, 0.28571429, 0.28571429, 0.52380952,\n",
       "        0.52380952, 0.57142857, 0.71428571],\n",
       "       [0.42857143, 0.28571429, 0.28571429, 0.52380952, 0.52380952,\n",
       "        0.57142857, 0.71428571, 0.71428571],\n",
       "       [0.28571429, 0.28571429, 0.52380952, 0.52380952, 0.57142857,\n",
       "        0.71428571, 0.71428571, 0.80952381],\n",
       "       [0.28571429, 0.52380952, 0.52380952, 0.57142857, 0.71428571,\n",
       "        0.71428571, 0.80952381, 0.80952381]])"
      ]
     },
     "execution_count": 3,
     "metadata": {},
     "output_type": "execute_result"
    }
   ],
   "source": [
    "scaler = MinMaxScaler(feature_range=(0,1))\n",
    "data = scaler.fit_transform(df)\n",
    "data"
   ]
  },
  {
   "cell_type": "code",
   "execution_count": 15,
   "metadata": {},
   "outputs": [
    {
     "data": {
      "text/plain": [
       "(40, 7)"
      ]
     },
     "execution_count": 15,
     "metadata": {},
     "output_type": "execute_result"
    }
   ],
   "source": [
    "x_train, x_test, y_train, y_test = train_test_split(data[:,:-1], data[:,-1], test_size=0.2)\n",
    "x_train.shape"
   ]
  },
  {
   "cell_type": "code",
   "execution_count": 8,
   "metadata": {},
   "outputs": [
    {
     "name": "stderr",
     "output_type": "stream",
     "text": [
      "2023-05-12 16:55:02.724645: I tensorflow/core/common_runtime/executor.cc:1197] [/device:CPU:0] (DEBUG INFO) Executor start aborting (this does not indicate an error and you can ignore this message): INVALID_ARGUMENT: You must feed a value for placeholder tensor 'gradients/split_2_grad/concat/split_2/split_dim' with dtype int32\n",
      "\t [[{{node gradients/split_2_grad/concat/split_2/split_dim}}]]\n",
      "2023-05-12 16:55:02.726515: I tensorflow/core/common_runtime/executor.cc:1197] [/device:CPU:0] (DEBUG INFO) Executor start aborting (this does not indicate an error and you can ignore this message): INVALID_ARGUMENT: You must feed a value for placeholder tensor 'gradients/split_grad/concat/split/split_dim' with dtype int32\n",
      "\t [[{{node gradients/split_grad/concat/split/split_dim}}]]\n",
      "2023-05-12 16:55:02.728282: I tensorflow/core/common_runtime/executor.cc:1197] [/device:CPU:0] (DEBUG INFO) Executor start aborting (this does not indicate an error and you can ignore this message): INVALID_ARGUMENT: You must feed a value for placeholder tensor 'gradients/split_1_grad/concat/split_1/split_dim' with dtype int32\n",
      "\t [[{{node gradients/split_1_grad/concat/split_1/split_dim}}]]\n"
     ]
    }
   ],
   "source": [
    "# Membuat model LSTM\n",
    "model = Sequential()\n",
    "model.add(LSTM(32, input_shape=(7, 1)))\n",
    "model.add(Dense(1))\n",
    "model.compile(loss='mean_squared_error', optimizer='adam')"
   ]
  },
  {
   "cell_type": "code",
   "execution_count": 10,
   "metadata": {},
   "outputs": [
    {
     "name": "stdout",
     "output_type": "stream",
     "text": [
      "Epoch 1/100\n"
     ]
    },
    {
     "name": "stderr",
     "output_type": "stream",
     "text": [
      "2023-05-12 16:55:30.183936: I tensorflow/core/common_runtime/executor.cc:1197] [/device:CPU:0] (DEBUG INFO) Executor start aborting (this does not indicate an error and you can ignore this message): INVALID_ARGUMENT: You must feed a value for placeholder tensor 'gradients/split_2_grad/concat/split_2/split_dim' with dtype int32\n",
      "\t [[{{node gradients/split_2_grad/concat/split_2/split_dim}}]]\n",
      "2023-05-12 16:55:30.185586: I tensorflow/core/common_runtime/executor.cc:1197] [/device:CPU:0] (DEBUG INFO) Executor start aborting (this does not indicate an error and you can ignore this message): INVALID_ARGUMENT: You must feed a value for placeholder tensor 'gradients/split_grad/concat/split/split_dim' with dtype int32\n",
      "\t [[{{node gradients/split_grad/concat/split/split_dim}}]]\n",
      "2023-05-12 16:55:30.186878: I tensorflow/core/common_runtime/executor.cc:1197] [/device:CPU:0] (DEBUG INFO) Executor start aborting (this does not indicate an error and you can ignore this message): INVALID_ARGUMENT: You must feed a value for placeholder tensor 'gradients/split_1_grad/concat/split_1/split_dim' with dtype int32\n",
      "\t [[{{node gradients/split_1_grad/concat/split_1/split_dim}}]]\n",
      "2023-05-12 16:55:30.857869: I tensorflow/core/common_runtime/executor.cc:1197] [/device:CPU:0] (DEBUG INFO) Executor start aborting (this does not indicate an error and you can ignore this message): INVALID_ARGUMENT: You must feed a value for placeholder tensor 'gradients/split_2_grad/concat/split_2/split_dim' with dtype int32\n",
      "\t [[{{node gradients/split_2_grad/concat/split_2/split_dim}}]]\n",
      "2023-05-12 16:55:30.859872: I tensorflow/core/common_runtime/executor.cc:1197] [/device:CPU:0] (DEBUG INFO) Executor start aborting (this does not indicate an error and you can ignore this message): INVALID_ARGUMENT: You must feed a value for placeholder tensor 'gradients/split_grad/concat/split/split_dim' with dtype int32\n",
      "\t [[{{node gradients/split_grad/concat/split/split_dim}}]]\n",
      "2023-05-12 16:55:30.862592: I tensorflow/core/common_runtime/executor.cc:1197] [/device:CPU:0] (DEBUG INFO) Executor start aborting (this does not indicate an error and you can ignore this message): INVALID_ARGUMENT: You must feed a value for placeholder tensor 'gradients/split_1_grad/concat/split_1/split_dim' with dtype int32\n",
      "\t [[{{node gradients/split_1_grad/concat/split_1/split_dim}}]]\n"
     ]
    },
    {
     "name": "stdout",
     "output_type": "stream",
     "text": [
      "2/2 - 2s - loss: 0.1779 - 2s/epoch - 1s/step\n",
      "Epoch 2/100\n",
      "2/2 - 0s - loss: 0.1488 - 9ms/epoch - 4ms/step\n",
      "Epoch 3/100\n",
      "2/2 - 0s - loss: 0.1229 - 17ms/epoch - 8ms/step\n",
      "Epoch 4/100\n",
      "2/2 - 0s - loss: 0.1005 - 18ms/epoch - 9ms/step\n",
      "Epoch 5/100\n",
      "2/2 - 0s - loss: 0.0798 - 17ms/epoch - 8ms/step\n",
      "Epoch 6/100\n",
      "2/2 - 0s - loss: 0.0636 - 14ms/epoch - 7ms/step\n",
      "Epoch 7/100\n",
      "2/2 - 0s - loss: 0.0510 - 16ms/epoch - 8ms/step\n",
      "Epoch 8/100\n",
      "2/2 - 0s - loss: 0.0448 - 19ms/epoch - 9ms/step\n",
      "Epoch 9/100\n",
      "2/2 - 0s - loss: 0.0429 - 27ms/epoch - 13ms/step\n",
      "Epoch 10/100\n",
      "2/2 - 0s - loss: 0.0441 - 15ms/epoch - 8ms/step\n",
      "Epoch 11/100\n",
      "2/2 - 0s - loss: 0.0487 - 13ms/epoch - 7ms/step\n",
      "Epoch 12/100\n",
      "2/2 - 0s - loss: 0.0504 - 17ms/epoch - 8ms/step\n",
      "Epoch 13/100\n",
      "2/2 - 0s - loss: 0.0497 - 17ms/epoch - 8ms/step\n",
      "Epoch 14/100\n",
      "2/2 - 0s - loss: 0.0476 - 21ms/epoch - 10ms/step\n",
      "Epoch 15/100\n",
      "2/2 - 0s - loss: 0.0449 - 17ms/epoch - 8ms/step\n",
      "Epoch 16/100\n",
      "2/2 - 0s - loss: 0.0434 - 15ms/epoch - 8ms/step\n",
      "Epoch 17/100\n",
      "2/2 - 0s - loss: 0.0415 - 16ms/epoch - 8ms/step\n",
      "Epoch 18/100\n",
      "2/2 - 0s - loss: 0.0410 - 13ms/epoch - 6ms/step\n",
      "Epoch 19/100\n",
      "2/2 - 0s - loss: 0.0417 - 16ms/epoch - 8ms/step\n",
      "Epoch 20/100\n",
      "2/2 - 0s - loss: 0.0416 - 19ms/epoch - 10ms/step\n",
      "Epoch 21/100\n",
      "2/2 - 0s - loss: 0.0419 - 17ms/epoch - 8ms/step\n",
      "Epoch 22/100\n",
      "2/2 - 0s - loss: 0.0417 - 18ms/epoch - 9ms/step\n",
      "Epoch 23/100\n",
      "2/2 - 0s - loss: 0.0414 - 15ms/epoch - 8ms/step\n",
      "Epoch 24/100\n",
      "2/2 - 0s - loss: 0.0412 - 17ms/epoch - 8ms/step\n",
      "Epoch 25/100\n",
      "2/2 - 0s - loss: 0.0408 - 17ms/epoch - 9ms/step\n",
      "Epoch 26/100\n",
      "2/2 - 0s - loss: 0.0406 - 15ms/epoch - 8ms/step\n",
      "Epoch 27/100\n",
      "2/2 - 0s - loss: 0.0401 - 10ms/epoch - 5ms/step\n",
      "Epoch 28/100\n",
      "2/2 - 0s - loss: 0.0400 - 22ms/epoch - 11ms/step\n",
      "Epoch 29/100\n",
      "2/2 - 0s - loss: 0.0398 - 14ms/epoch - 7ms/step\n",
      "Epoch 30/100\n",
      "2/2 - 0s - loss: 0.0397 - 15ms/epoch - 8ms/step\n",
      "Epoch 31/100\n",
      "2/2 - 0s - loss: 0.0400 - 12ms/epoch - 6ms/step\n",
      "Epoch 32/100\n",
      "2/2 - 0s - loss: 0.0398 - 14ms/epoch - 7ms/step\n",
      "Epoch 33/100\n",
      "2/2 - 0s - loss: 0.0396 - 14ms/epoch - 7ms/step\n",
      "Epoch 34/100\n",
      "2/2 - 0s - loss: 0.0393 - 15ms/epoch - 8ms/step\n",
      "Epoch 35/100\n",
      "2/2 - 0s - loss: 0.0393 - 9ms/epoch - 5ms/step\n",
      "Epoch 36/100\n",
      "2/2 - 0s - loss: 0.0390 - 16ms/epoch - 8ms/step\n",
      "Epoch 37/100\n",
      "2/2 - 0s - loss: 0.0388 - 14ms/epoch - 7ms/step\n",
      "Epoch 38/100\n",
      "2/2 - 0s - loss: 0.0388 - 17ms/epoch - 9ms/step\n",
      "Epoch 39/100\n",
      "2/2 - 0s - loss: 0.0387 - 13ms/epoch - 7ms/step\n",
      "Epoch 40/100\n",
      "2/2 - 0s - loss: 0.0386 - 14ms/epoch - 7ms/step\n",
      "Epoch 41/100\n",
      "2/2 - 0s - loss: 0.0385 - 12ms/epoch - 6ms/step\n",
      "Epoch 42/100\n",
      "2/2 - 0s - loss: 0.0384 - 14ms/epoch - 7ms/step\n",
      "Epoch 43/100\n",
      "2/2 - 0s - loss: 0.0384 - 15ms/epoch - 7ms/step\n",
      "Epoch 44/100\n",
      "2/2 - 0s - loss: 0.0384 - 12ms/epoch - 6ms/step\n",
      "Epoch 45/100\n",
      "2/2 - 0s - loss: 0.0384 - 13ms/epoch - 7ms/step\n",
      "Epoch 46/100\n",
      "2/2 - 0s - loss: 0.0382 - 16ms/epoch - 8ms/step\n",
      "Epoch 47/100\n",
      "2/2 - 0s - loss: 0.0380 - 13ms/epoch - 6ms/step\n",
      "Epoch 48/100\n",
      "2/2 - 0s - loss: 0.0377 - 13ms/epoch - 7ms/step\n",
      "Epoch 49/100\n",
      "2/2 - 0s - loss: 0.0375 - 14ms/epoch - 7ms/step\n",
      "Epoch 50/100\n",
      "2/2 - 0s - loss: 0.0374 - 12ms/epoch - 6ms/step\n",
      "Epoch 51/100\n",
      "2/2 - 0s - loss: 0.0372 - 15ms/epoch - 7ms/step\n",
      "Epoch 52/100\n",
      "2/2 - 0s - loss: 0.0372 - 12ms/epoch - 6ms/step\n",
      "Epoch 53/100\n",
      "2/2 - 0s - loss: 0.0373 - 20ms/epoch - 10ms/step\n",
      "Epoch 54/100\n",
      "2/2 - 0s - loss: 0.0370 - 15ms/epoch - 8ms/step\n",
      "Epoch 55/100\n",
      "2/2 - 0s - loss: 0.0368 - 17ms/epoch - 9ms/step\n",
      "Epoch 56/100\n",
      "2/2 - 0s - loss: 0.0366 - 15ms/epoch - 7ms/step\n",
      "Epoch 57/100\n",
      "2/2 - 0s - loss: 0.0366 - 15ms/epoch - 8ms/step\n",
      "Epoch 58/100\n",
      "2/2 - 0s - loss: 0.0364 - 15ms/epoch - 8ms/step\n",
      "Epoch 59/100\n",
      "2/2 - 0s - loss: 0.0364 - 15ms/epoch - 8ms/step\n",
      "Epoch 60/100\n",
      "2/2 - 0s - loss: 0.0364 - 16ms/epoch - 8ms/step\n",
      "Epoch 61/100\n",
      "2/2 - 0s - loss: 0.0363 - 13ms/epoch - 7ms/step\n",
      "Epoch 62/100\n",
      "2/2 - 0s - loss: 0.0363 - 15ms/epoch - 7ms/step\n",
      "Epoch 63/100\n",
      "2/2 - 0s - loss: 0.0360 - 12ms/epoch - 6ms/step\n",
      "Epoch 64/100\n",
      "2/2 - 0s - loss: 0.0356 - 24ms/epoch - 12ms/step\n",
      "Epoch 65/100\n",
      "2/2 - 0s - loss: 0.0355 - 18ms/epoch - 9ms/step\n",
      "Epoch 66/100\n",
      "2/2 - 0s - loss: 0.0356 - 16ms/epoch - 8ms/step\n",
      "Epoch 67/100\n",
      "2/2 - 0s - loss: 0.0357 - 15ms/epoch - 7ms/step\n",
      "Epoch 68/100\n",
      "2/2 - 0s - loss: 0.0356 - 18ms/epoch - 9ms/step\n",
      "Epoch 69/100\n",
      "2/2 - 0s - loss: 0.0354 - 16ms/epoch - 8ms/step\n",
      "Epoch 70/100\n",
      "2/2 - 0s - loss: 0.0351 - 20ms/epoch - 10ms/step\n",
      "Epoch 71/100\n",
      "2/2 - 0s - loss: 0.0350 - 28ms/epoch - 14ms/step\n",
      "Epoch 72/100\n",
      "2/2 - 0s - loss: 0.0347 - 15ms/epoch - 7ms/step\n",
      "Epoch 73/100\n",
      "2/2 - 0s - loss: 0.0347 - 15ms/epoch - 8ms/step\n",
      "Epoch 74/100\n",
      "2/2 - 0s - loss: 0.0345 - 17ms/epoch - 9ms/step\n",
      "Epoch 75/100\n",
      "2/2 - 0s - loss: 0.0344 - 19ms/epoch - 9ms/step\n",
      "Epoch 76/100\n",
      "2/2 - 0s - loss: 0.0343 - 16ms/epoch - 8ms/step\n",
      "Epoch 77/100\n",
      "2/2 - 0s - loss: 0.0342 - 20ms/epoch - 10ms/step\n",
      "Epoch 78/100\n",
      "2/2 - 0s - loss: 0.0341 - 16ms/epoch - 8ms/step\n",
      "Epoch 79/100\n",
      "2/2 - 0s - loss: 0.0340 - 14ms/epoch - 7ms/step\n",
      "Epoch 80/100\n",
      "2/2 - 0s - loss: 0.0339 - 15ms/epoch - 7ms/step\n",
      "Epoch 81/100\n",
      "2/2 - 0s - loss: 0.0338 - 16ms/epoch - 8ms/step\n",
      "Epoch 82/100\n",
      "2/2 - 0s - loss: 0.0337 - 16ms/epoch - 8ms/step\n",
      "Epoch 83/100\n",
      "2/2 - 0s - loss: 0.0336 - 15ms/epoch - 7ms/step\n",
      "Epoch 84/100\n",
      "2/2 - 0s - loss: 0.0335 - 16ms/epoch - 8ms/step\n",
      "Epoch 85/100\n",
      "2/2 - 0s - loss: 0.0334 - 17ms/epoch - 8ms/step\n",
      "Epoch 86/100\n",
      "2/2 - 0s - loss: 0.0333 - 14ms/epoch - 7ms/step\n",
      "Epoch 87/100\n",
      "2/2 - 0s - loss: 0.0332 - 15ms/epoch - 7ms/step\n",
      "Epoch 88/100\n",
      "2/2 - 0s - loss: 0.0330 - 14ms/epoch - 7ms/step\n",
      "Epoch 89/100\n",
      "2/2 - 0s - loss: 0.0330 - 13ms/epoch - 7ms/step\n",
      "Epoch 90/100\n",
      "2/2 - 0s - loss: 0.0327 - 13ms/epoch - 6ms/step\n",
      "Epoch 91/100\n",
      "2/2 - 0s - loss: 0.0326 - 14ms/epoch - 7ms/step\n",
      "Epoch 92/100\n",
      "2/2 - 0s - loss: 0.0326 - 30ms/epoch - 15ms/step\n",
      "Epoch 93/100\n",
      "2/2 - 0s - loss: 0.0328 - 12ms/epoch - 6ms/step\n",
      "Epoch 94/100\n",
      "2/2 - 0s - loss: 0.0326 - 16ms/epoch - 8ms/step\n",
      "Epoch 95/100\n",
      "2/2 - 0s - loss: 0.0324 - 12ms/epoch - 6ms/step\n",
      "Epoch 96/100\n",
      "2/2 - 0s - loss: 0.0320 - 18ms/epoch - 9ms/step\n",
      "Epoch 97/100\n",
      "2/2 - 0s - loss: 0.0319 - 13ms/epoch - 6ms/step\n",
      "Epoch 98/100\n",
      "2/2 - 0s - loss: 0.0321 - 15ms/epoch - 8ms/step\n",
      "Epoch 99/100\n",
      "2/2 - 0s - loss: 0.0321 - 12ms/epoch - 6ms/step\n",
      "Epoch 100/100\n",
      "2/2 - 0s - loss: 0.0318 - 14ms/epoch - 7ms/step\n"
     ]
    },
    {
     "data": {
      "text/plain": [
       "<keras.callbacks.History at 0x7f4c7c44e2f0>"
      ]
     },
     "execution_count": 10,
     "metadata": {},
     "output_type": "execute_result"
    }
   ],
   "source": [
    "# Melatih model\n",
    "model.fit(x_train, y_train, epochs=100, batch_size=32, verbose=2)"
   ]
  },
  {
   "cell_type": "code",
   "execution_count": 16,
   "metadata": {},
   "outputs": [
    {
     "name": "stdout",
     "output_type": "stream",
     "text": [
      "1/1 [==============================] - 0s 26ms/step\n"
     ]
    }
   ],
   "source": [
    "# melakukan prediksi harga saham pada data uji\n",
    "predictions = model.predict(x_test)\n",
    "# predictions = scaler.inverse_transform(predictions)"
   ]
  },
  {
   "cell_type": "code",
   "execution_count": 17,
   "metadata": {},
   "outputs": [
    {
     "data": {
      "text/plain": [
       "array([[0.19166462],\n",
       "       [0.5368268 ],\n",
       "       [0.5280459 ],\n",
       "       [0.22161125],\n",
       "       [0.31874272],\n",
       "       [0.17945506],\n",
       "       [0.48463595],\n",
       "       [0.6860228 ],\n",
       "       [0.17689757],\n",
       "       [0.46164772]], dtype=float32)"
      ]
     },
     "execution_count": 17,
     "metadata": {},
     "output_type": "execute_result"
    }
   ],
   "source": [
    "predictions"
   ]
  },
  {
   "cell_type": "code",
   "execution_count": 18,
   "metadata": {},
   "outputs": [
    {
     "data": {
      "text/plain": [
       "array([0.14285714, 0.57142857, 0.57142857, 0.04761905, 0.28571429,\n",
       "       0.0952381 , 0.71428571, 0.76190476, 0.04761905, 0.33333333])"
      ]
     },
     "execution_count": 18,
     "metadata": {},
     "output_type": "execute_result"
    }
   ],
   "source": [
    "y_test"
   ]
  },
  {
   "cell_type": "code",
   "execution_count": null,
   "metadata": {},
   "outputs": [],
   "source": []
  }
 ],
 "metadata": {
  "kernelspec": {
   "display_name": ".env",
   "language": "python",
   "name": "python3"
  },
  "language_info": {
   "codemirror_mode": {
    "name": "ipython",
    "version": 3
   },
   "file_extension": ".py",
   "mimetype": "text/x-python",
   "name": "python",
   "nbconvert_exporter": "python",
   "pygments_lexer": "ipython3",
   "version": "3.10.6"
  },
  "orig_nbformat": 4
 },
 "nbformat": 4,
 "nbformat_minor": 2
}
