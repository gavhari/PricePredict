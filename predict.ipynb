{
 "cells": [
  {
   "cell_type": "code",
   "execution_count": 1,
   "metadata": {},
   "outputs": [
    {
     "name": "stderr",
     "output_type": "stream",
     "text": [
      "2023-05-12 11:32:21.428430: I tensorflow/tsl/cuda/cudart_stub.cc:28] Could not find cuda drivers on your machine, GPU will not be used.\n",
      "2023-05-12 11:32:21.477406: I tensorflow/tsl/cuda/cudart_stub.cc:28] Could not find cuda drivers on your machine, GPU will not be used.\n",
      "2023-05-12 11:32:21.478594: I tensorflow/core/platform/cpu_feature_guard.cc:182] This TensorFlow binary is optimized to use available CPU instructions in performance-critical operations.\n",
      "To enable the following instructions: AVX2 FMA, in other operations, rebuild TensorFlow with the appropriate compiler flags.\n",
      "2023-05-12 11:32:22.678032: W tensorflow/compiler/tf2tensorrt/utils/py_utils.cc:38] TF-TRT Warning: Could not find TensorRT\n"
     ]
    }
   ],
   "source": [
    "import tensorflow as tf\n",
    "import numpy as np\n",
    "import requests"
   ]
  },
  {
   "cell_type": "code",
   "execution_count": 2,
   "metadata": {},
   "outputs": [],
   "source": [
    "symbol = \"EURUSD\"\n",
    "url = f\"https://www.tradingview.com/symbols/{symbol}\"\n"
   ]
  },
  {
   "cell_type": "code",
   "execution_count": 3,
   "metadata": {},
   "outputs": [
    {
     "name": "stdout",
     "output_type": "stream",
     "text": [
      "Selesai dimuat\n"
     ]
    }
   ],
   "source": [
    "from selenium import webdriver\n",
    "from selenium.webdriver.common.by import By\n",
    "from selenium.webdriver.support.ui import WebDriverWait\n",
    "from selenium.webdriver.support import expected_conditions as EC\n",
    "\n",
    "driver = webdriver.Chrome()\n",
    "xpath = {\n",
    "    'market_status':'//*[@id=\"js-category-content\"]/div[1]/div[1]/div/div/div/div[2]/button[4]/span/span[2]',\n",
    "    'price':'//*[@id=\"js-category-content\"]/div[1]/div[1]/div/div/div/div[3]/div[1]/div/div[1]/span[1]'\n",
    "}\n",
    "driver.get(url)\n",
    "wait = WebDriverWait(driver,10)\n",
    "element = wait.until(EC.presence_of_element_located((By.XPATH, xpath['market_status'])))\n",
    "print(\"Selesai dimuat\")"
   ]
  },
  {
   "cell_type": "code",
   "execution_count": 4,
   "metadata": {},
   "outputs": [
    {
     "name": "stdout",
     "output_type": "stream",
     "text": [
      "Market is open\n",
      "Stock Price :  1.09235\n"
     ]
    }
   ],
   "source": [
    "market_open = driver.find_element(By.XPATH, xpath['market_status'])\n",
    "stock_price = driver.find_element(By.XPATH, xpath['price'])\n",
    "if market_open.text == \"Market open\":\n",
    "    print(\"Market is open\")"
   ]
  },
  {
   "cell_type": "code",
   "execution_count": null,
   "metadata": {},
   "outputs": [],
   "source": [
    "import time\n",
    "\n",
    "while market_open.text == \"Market open\":\n",
    "    stock_price = driver.find_element(By.XPATH, xpath['price'])\n",
    "    print(\"Stock Price : \", stock_price.text)\n",
    "    time.sleep(5)\n",
    "    "
   ]
  },
  {
   "cell_type": "code",
   "execution_count": null,
   "metadata": {},
   "outputs": [],
   "source": [
    "//*[@id=\"js-category-content\"]/div[1]/div[1]/div/div/div/div[3]/div[1]/div/div[1]/span[1]/span[]"
   ]
  }
 ],
 "metadata": {
  "kernelspec": {
   "display_name": ".env",
   "language": "python",
   "name": "python3"
  },
  "language_info": {
   "codemirror_mode": {
    "name": "ipython",
    "version": 3
   },
   "file_extension": ".py",
   "mimetype": "text/x-python",
   "name": "python",
   "nbconvert_exporter": "python",
   "pygments_lexer": "ipython3",
   "version": "3.10.6"
  },
  "orig_nbformat": 4
 },
 "nbformat": 4,
 "nbformat_minor": 2
}
